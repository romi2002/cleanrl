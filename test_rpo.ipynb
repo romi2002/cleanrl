{
 "cells": [
  {
   "cell_type": "code",
   "execution_count": 2,
   "metadata": {
    "tags": []
   },
   "outputs": [
    {
     "ename": "SyntaxError",
     "evalue": "invalid syntax (2856468782.py, line 5)",
     "output_type": "error",
     "traceback": [
      "\u001B[0;36m  Cell \u001B[0;32mIn[2], line 5\u001B[0;36m\u001B[0m\n\u001B[0;31m    from ../cleanrl.rpo_continuous_action import Agent, make_env\u001B[0m\n\u001B[0m           ^\u001B[0m\n\u001B[0;31mSyntaxError\u001B[0m\u001B[0;31m:\u001B[0m invalid syntax\n"
     ]
    }
   ],
   "source": [
    "import gymnasium as gym\n",
    "import torch\n",
    "import gym_usv\n",
    "import numpy as np\n",
    "from cleanrl.rpo_continuous_action import Agent, make_env\n",
    "import matplotlib.pyplot as plt\n",
    "from IPython.display import Video\n",
    "import tempfile"
   ]
  },
  {
   "cell_type": "code",
   "execution_count": 37,
   "metadata": {
    "collapsed": false,
    "jupyter": {
     "outputs_hidden": false
    }
   },
   "outputs": [
    {
     "ename": "TypeError",
     "evalue": "Agent.__init__() missing 2 required positional arguments: 'envs' and 'rpo_alpha'",
     "output_type": "error",
     "traceback": [
      "\u001B[0;31m---------------------------------------------------------------------------\u001B[0m",
      "\u001B[0;31mTypeError\u001B[0m                                 Traceback (most recent call last)",
      "Cell \u001B[0;32mIn[37], line 1\u001B[0m\n\u001B[0;32m----> 1\u001B[0m agent \u001B[38;5;241m=\u001B[39m \u001B[43mAgent\u001B[49m\u001B[43m(\u001B[49m\u001B[43m)\u001B[49m\n\u001B[1;32m      2\u001B[0m \u001B[38;5;66;03m#agent = torch.load_state_dict('agent.pt')\u001B[39;00m\n",
      "\u001B[0;31mTypeError\u001B[0m: Agent.__init__() missing 2 required positional arguments: 'envs' and 'rpo_alpha'"
     ]
    }
   ],
   "source": [
    "agent = Agent()\n",
    "#agent = torch.load_state_dict('agent.pt')"
   ]
  },
  {
   "cell_type": "code",
   "execution_count": 16,
   "metadata": {
    "collapsed": false,
    "jupyter": {
     "outputs_hidden": false
    }
   },
   "outputs": [
    {
     "name": "stderr",
     "output_type": "stream",
     "text": [
      "/Users/abiel/mambaforge/envs/sb3/lib/python3.10/site-packages/gymnasium/spaces/box.py:127: UserWarning: \u001B[33mWARN: Box bound precision lowered by casting to float32\u001B[0m\n",
      "  logger.warn(f\"Box bound precision lowered by casting to {self.dtype}\")\n"
     ]
    }
   ],
   "source": [
    "# Make environment\n",
    "env = make_env(\"usv-asmc-ca-v0\", 0, False, \"test\", 0.99)\n",
    "env = env()"
   ]
  },
  {
   "cell_type": "code",
   "execution_count": 20,
   "metadata": {
    "collapsed": false,
    "jupyter": {
     "outputs_hidden": false
    }
   },
   "outputs": [],
   "source": [
    "next_obs, _ = env.reset()\n",
    "next_obs = torch.Tensor(next_obs)"
   ]
  },
  {
   "cell_type": "code",
   "execution_count": 36,
   "metadata": {
    "collapsed": false,
    "jupyter": {
     "outputs_hidden": false
    }
   },
   "outputs": [
    {
     "ename": "AttributeError",
     "evalue": "'collections.OrderedDict' object has no attribute 'get_action_and_value'",
     "output_type": "error",
     "traceback": [
      "\u001B[0;31m---------------------------------------------------------------------------\u001B[0m",
      "\u001B[0;31mAttributeError\u001B[0m                            Traceback (most recent call last)",
      "Cell \u001B[0;32mIn[36], line 8\u001B[0m\n\u001B[1;32m      2\u001B[0m recorder \u001B[38;5;241m=\u001B[39m video_recorder\u001B[38;5;241m.\u001B[39mVideoRecorder(\n\u001B[1;32m      3\u001B[0m     env,\n\u001B[1;32m      4\u001B[0m     \u001B[38;5;124m\"\u001B[39m\u001B[38;5;124m/tmp/test_video.mp4\u001B[39m\u001B[38;5;124m\"\u001B[39m\n\u001B[1;32m      5\u001B[0m )\n\u001B[1;32m      7\u001B[0m \u001B[38;5;28;01mfor\u001B[39;00m _ \u001B[38;5;129;01min\u001B[39;00m \u001B[38;5;28mrange\u001B[39m(\u001B[38;5;241m1000\u001B[39m):\n\u001B[0;32m----> 8\u001B[0m     action, logprob, _, value \u001B[38;5;241m=\u001B[39m \u001B[43magent\u001B[49m\u001B[38;5;241;43m.\u001B[39;49m\u001B[43mget_action_and_value\u001B[49m()\n\u001B[1;32m      9\u001B[0m     next_obs, reward, terminated, truncated, infos \u001B[38;5;241m=\u001B[39m env\u001B[38;5;241m.\u001B[39mstep(action\u001B[38;5;241m.\u001B[39mcpu()\u001B[38;5;241m.\u001B[39mnumpy())\n\u001B[1;32m     10\u001B[0m     next_obs \u001B[38;5;241m=\u001B[39m torch\u001B[38;5;241m.\u001B[39mTensor(next_obs)\n",
      "\u001B[0;31mAttributeError\u001B[0m: 'collections.OrderedDict' object has no attribute 'get_action_and_value'"
     ]
    }
   ],
   "source": [
    "from gymnasium.wrappers.monitoring import video_recorder\n",
    "recorder = video_recorder.VideoRecorder(\n",
    "    env,\n",
    "    \"/tmp/test_video.mp4\"\n",
    ")\n",
    "\n",
    "for _ in range(1000):\n",
    "    action, logprob, _, value = agent.get_action_and_value()\n",
    "    next_obs, reward, terminated, truncated, infos = env.step(action.cpu().numpy())\n",
    "    next_obs = torch.Tensor(next_obs)\n",
    "    recorder.capture_frame()\n",
    "\n",
    "recorder.close()"
   ]
  },
  {
   "cell_type": "code",
   "execution_count": 32,
   "metadata": {
    "collapsed": false,
    "jupyter": {
     "outputs_hidden": false
    }
   },
   "outputs": [
    {
     "data": {
      "text/html": [
       "<video src=\"/tmp/test_video.mp4\" controls  >\n",
       "      Your browser does not support the <code>video</code> element.\n",
       "    </video>"
      ],
      "text/plain": [
       "<IPython.core.display.Video object>"
      ]
     },
     "execution_count": 32,
     "metadata": {},
     "output_type": "execute_result"
    }
   ],
   "source": [
    "Video(\"/tmp/test_video.mp4\")"
   ]
  },
  {
   "cell_type": "code",
   "execution_count": null,
   "metadata": {
    "collapsed": false,
    "jupyter": {
     "outputs_hidden": false
    }
   },
   "outputs": [],
   "source": []
  }
 ],
 "metadata": {
  "kernelspec": {
   "display_name": "Python 3 (ipykernel)",
   "language": "python",
   "name": "python3"
  },
  "language_info": {
   "codemirror_mode": {
    "name": "ipython",
    "version": 3
   },
   "file_extension": ".py",
   "mimetype": "text/x-python",
   "name": "python",
   "nbconvert_exporter": "python",
   "pygments_lexer": "ipython3",
   "version": "3.10.9"
  }
 },
 "nbformat": 4,
 "nbformat_minor": 4
}
