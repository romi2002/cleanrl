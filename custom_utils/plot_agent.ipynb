{
 "cells": [
  {
   "cell_type": "code",
   "execution_count": 126,
   "metadata": {
    "tags": []
   },
   "outputs": [],
   "source": [
    "import sys\n",
    "\n",
    "from os.path import dirname, abspath\n",
    "import os\n",
    "sys.path.append(dirname(abspath(os.getcwd())))\n",
    "import gymnasium as gym\n",
    "import torch\n",
    "import gym_usv\n",
    "import numpy as np\n",
    "from cleanrl.rpo_continuous_action import Agent, make_env\n",
    "import matplotlib.pyplot as plt\n",
    "from IPython.display import Video\n",
    "import tempfile\n",
    "from tqdm import tqdm\n",
    "import pandas as pd\n",
    "import torch.nn as nn\n",
    "import torch.optim as optim\n",
    "import seaborn as sns\n",
    "#sns.set_theme()\n",
    "import matplotlib\n",
    "import matplotlib as mpl\n",
    "from matplotlib.collections import EllipseCollection\n",
    "from torch.distributions.normal import Normal\n",
    "import pickle\n",
    "# matplotlib.use(\"pgf\")\n",
    "# matplotlib.rcParams.update({\n",
    "#     \"pgf.texsystem\": \"pdflatex\",\n",
    "#     'font.family': 'serif',\n",
    "#     'text.usetex': True,\n",
    "#     'pgf.rcfonts': False,\n",
    "# })"
   ]
  },
  {
   "cell_type": "code",
   "execution_count": 127,
   "metadata": {},
   "outputs": [
    {
     "data": {
      "text/plain": [
       "<torch._C.Generator at 0x10605c7d0>"
      ]
     },
     "execution_count": 127,
     "metadata": {},
     "output_type": "execute_result"
    }
   ],
   "source": [
    "torch.manual_seed(1)"
   ]
  },
  {
   "cell_type": "code",
   "execution_count": 128,
   "metadata": {
    "collapsed": false,
    "jupyter": {
     "outputs_hidden": false
    }
   },
   "outputs": [
    {
     "name": "stderr",
     "output_type": "stream",
     "text": [
      "/Users/abiel/mambaforge/envs/sb3/lib/python3.10/site-packages/gymnasium/spaces/box.py:127: UserWarning: \u001B[33mWARN: Box bound precision lowered by casting to float32\u001B[0m\n",
      "  logger.warn(f\"Box bound precision lowered by casting to {self.dtype}\")\n"
     ]
    }
   ],
   "source": [
    "def layer_init(layer, std=np.sqrt(2), bias_const=0.0):\n",
    "    torch.nn.init.orthogonal_(layer.weight, std)\n",
    "    torch.nn.init.constant_(layer.bias, bias_const)\n",
    "    return layer\n",
    "\n",
    "perturb_range = (100, 400)\n",
    "envs = gym.vector.SyncVectorEnv(\n",
    "        [make_env(\"usv-asmc-ca-v0\", 0, False, \"test_run\", 0.99, perturb_range, (10, 10)) for i in range(1)]\n",
    "    )\n",
    "\n",
    "envs = gym.wrappers.ClipAction(envs)\n",
    "envs = gym.wrappers.NormalizeObservation(envs)\n",
    "envs = gym.wrappers.TransformObservation(envs, lambda obs: np.clip(obs, -10, 10))\n",
    "envs = gym.wrappers.NormalizeReward(envs, gamma=0.99)\n",
    "envs = gym.wrappers.TransformReward(envs, lambda reward: np.clip(reward, -10, 10))\n",
    "\n",
    "max_y = 10\n",
    "min_y = -10\n",
    "max_x = 30\n",
    "min_x = -10"
   ]
  },
  {
   "cell_type": "code",
   "execution_count": 129,
   "metadata": {
    "collapsed": false,
    "jupyter": {
     "outputs_hidden": false
    }
   },
   "outputs": [],
   "source": [
    "agent = Agent(envs, 0.5)\n",
    "agent_dict = torch.load('agent.pt', map_location=torch.device('cpu'))\n",
    "agent.load_state_dict(torch.load('agent.pt', map_location=torch.device('cpu')), strict=False)\n",
    "agent.eval()\n",
    "\n",
    "obs_rms = pickle.load(open('obs_rms.pickle', 'rb'))\n",
    "\n",
    "envs.obs_rms.mean = obs_rms['mean']\n",
    "envs.obs_rms.var = obs_rms['var']\n",
    "envs.obs_rms.count = obs_rms['count']\n",
    "#envs.obs_rms.count = np.array([2419320])\n",
    "#envs.envs[0].obs_rms.mean = agent_dict['obs_rms_mean'][0]\n",
    "#envs.envs[0].obs_rms.var = agent_dict['obs_rms_var'][0]"
   ]
  },
  {
   "cell_type": "code",
   "execution_count": 130,
   "metadata": {},
   "outputs": [
    {
     "data": {
      "text/plain": [
       "{'mean': array([ 1.77732177e-01,  3.00550070e-03,  3.77092061e-03,  4.25927069e-04,\n",
       "        -1.79072119e-01,  2.68265734e-01, -1.58793692e-02,  5.71590390e-01,\n",
       "         1.37988319e-02,  5.15883122e-02,  6.19614499e-01,  6.37417493e-01,\n",
       "         6.50799974e-01,  6.51080296e-01,  6.43666655e-01,  6.58157756e-01,\n",
       "         6.84701929e-01,  6.81620398e-01,  6.60253315e-01,  6.32949006e-01,\n",
       "         6.00317281e-01,  5.88445510e-01,  6.00573263e-01,  6.28763435e-01,\n",
       "         6.66440075e-01,  6.94507007e-01,  6.97379063e-01,  6.99754700e-01,\n",
       "         6.89772523e-01,  6.66152938e-01,  6.35462250e-01,  5.83969288e-01,\n",
       "         5.36844768e-01,  5.07354244e-01,  5.02665121e-01,  5.14688266e-01,\n",
       "         5.19586967e-01,  5.07747223e-01,  5.09618744e-01,  5.26516965e-01,\n",
       "         5.37750626e-01,  5.31406429e-01]),\n",
       " 'var': array([6.10570976e-03, 6.07394314e-03, 7.99037435e-05, 1.00358690e-04,\n",
       "        3.32795706e-01, 2.41636405e-02, 1.99815447e-01, 1.37250147e-03,\n",
       "        1.52537870e-01, 8.29093391e-03, 2.03640751e-01, 2.00332096e-01,\n",
       "        1.97871453e-01, 1.98017178e-01, 1.99311813e-01, 1.96346054e-01,\n",
       "        1.90683745e-01, 1.92392770e-01, 1.98998122e-01, 2.06189910e-01,\n",
       "        2.11356788e-01, 2.12881457e-01, 2.11515987e-01, 2.06441369e-01,\n",
       "        1.97418251e-01, 1.88973686e-01, 1.87247597e-01, 1.86628594e-01,\n",
       "        1.89621067e-01, 1.96669454e-01, 2.04738004e-01, 2.13104284e-01,\n",
       "        2.16689179e-01, 2.16908029e-01, 2.17432965e-01, 2.18735765e-01,\n",
       "        2.18988020e-01, 2.18001275e-01, 2.18210132e-01, 2.18945850e-01,\n",
       "        2.18827042e-01, 2.18210840e-01]),\n",
       " 'count': 1359880.0001}"
      ]
     },
     "execution_count": 130,
     "metadata": {},
     "output_type": "execute_result"
    }
   ],
   "source": [
    "obs_rms"
   ]
  },
  {
   "cell_type": "code",
   "execution_count": 131,
   "metadata": {},
   "outputs": [],
   "source": [
    "def experiment_1_options():\n",
    "    options = {}\n",
    "    options['obs_x'] = np.array([-6,0,6,3,-3])\n",
    "    options['obs_y'] = np.array([0,0,0,4.5,4.5])\n",
    "    options['obs_r'] = np.array([1.5,1.5,1.5,1.5,1.5])\n",
    "    options['start_position'] = np.array([0,-8,np.pi/2])\n",
    "    options['target_point'] = np.array([0, 8, 0])\n",
    "    options['renderplots'] = False\n",
    "    return options\n",
    "\n",
    "def experiment_2_options():\n",
    "    options = {'obs_x': np.array([]), 'obs_y':np.array([]), 'obs_r':np.array([])}    \n",
    "    \n",
    "    def draw_vert_wall(options, start_x, end_x, y, radius=1):\n",
    "        \n",
    "        x = np.arange(start_x, end_x, radius * 2)\n",
    "        y = np.full(len(x), y)\n",
    "        r = np.full(len(x), radius)\n",
    "        \n",
    "        options['obs_x'] = np.concatenate((options['obs_x'], x))\n",
    "        options['obs_y'] = np.concatenate((options['obs_y'], y))\n",
    "        options['obs_r'] = np.concatenate((options['obs_r'], r))\n",
    "\n",
    "    \n",
    "    draw_vert_wall(options, -10, 30, -4, 0.5)\n",
    "    draw_vert_wall(options, -10, 30, 1, 0.5)\n",
    "    \n",
    "    indexes_to_remove = [7,8,9,60,61,62]\n",
    "    options['obs_x'] = np.delete(options['obs_x'], indexes_to_remove)\n",
    "    options['obs_y'] = np.delete(options['obs_y'], indexes_to_remove)\n",
    "    options['obs_r'] = np.delete(options['obs_r'], indexes_to_remove)\n",
    "    \n",
    "    options['obs_x'] = np.append(options['obs_x'], [-10, 10])\n",
    "    options['obs_y'] = np.append(options['obs_y'], [-3, -7])\n",
    "    options['obs_r'] = np.append(options['obs_r'], [5, 5])\n",
    "\n",
    "    options['start_position'] = np.array([-2,-8,np.pi/2])\n",
    "    options['target_point'] = np.array([0, 8, 0])\n",
    "    options['renderplots'] = False\n",
    "    return options"
   ]
  },
  {
   "cell_type": "code",
   "execution_count": null,
   "metadata": {
    "scrolled": true,
    "tags": []
   },
   "outputs": [
    {
     "name": "stderr",
     "output_type": "stream",
     "text": [
      "  0%|                                                                                            | 0/5000 [00:00<?, ?it/s]/Users/abiel/mambaforge/envs/sb3/lib/python3.10/site-packages/gymnasium/utils/passive_env_checker.py:272: UserWarning: \u001B[33mWARN: No render modes was declared in the environment (env.metadata['render_modes'] is None or not defined), you may have trouble when calling `.render()`.\u001B[0m\n",
      "  logger.warn(\n",
      " 44%|██████████████████████████████████▉                                             | 2186/5000 [00:07<00:09, 302.94it/s]\n"
     ]
    },
    {
     "name": "stdout",
     "output_type": "stream",
     "text": [
      "Moviepy - Building video test_video.mp4.\n",
      "Moviepy - Writing video test_video.mp4\n",
      "\n"
     ]
    },
    {
     "name": "stderr",
     "output_type": "stream",
     "text": [
      "t:  21%|██████████████▎                                                     | 459/2186 [00:02<00:06, 256.48it/s, now=None]"
     ]
    }
   ],
   "source": [
    "options = experiment_1_options()\n",
    "\n",
    "next_obs, _ = envs.reset(seed=1, options=options)\n",
    "next_obs = torch.Tensor(next_obs)\n",
    "all_info = []\n",
    "\n",
    "from gymnasium.wrappers.monitoring import video_recorder\n",
    "recorder = video_recorder.VideoRecorder(\n",
    "    envs.envs[0],\n",
    "    \"test_video.mp4\"\n",
    ")\n",
    "\n",
    "for step in tqdm(range(5000)):\n",
    "    with torch.no_grad():\n",
    "        action, _, _, _ = agent.get_action_and_value(next_obs)\n",
    "    \n",
    "    state, reward, terminated, truncated, infos = envs.step(action.cpu().numpy())\n",
    "    all_info.append(infos)\n",
    "    done = np.logical_or(terminated, truncated)\n",
    "    if done.all():\n",
    "        break\n",
    "    next_obs = torch.Tensor(state)\n",
    "    recorder.capture_frame()\n",
    "\n",
    "recorder.close()\n",
    "Video(\"test_video.mp4\")"
   ]
  },
  {
   "cell_type": "code",
   "execution_count": null,
   "metadata": {},
   "outputs": [],
   "source": [
    "from collections import defaultdict\n",
    "raw_data = defaultdict(list)\n",
    "for info in all_info[:-2]:\n",
    "    keys = all_info[0].keys()\n",
    "    for key in keys:\n",
    "        raw_data[key].append(info[key])\n",
    "\n",
    "data = {}\n",
    "concat_keys = ['position', 'velocity', 'action', 'action_in']\n",
    "for key in concat_keys:\n",
    "    data[key] = np.concatenate(raw_data[key])\n",
    "    \n",
    "for info in [a['asmc_info'] for a in all_info[:-2]]:\n",
    "    d = info[0]\n",
    "    for sub_d in d:\n",
    "        for k, v in sub_d.items():\n",
    "            raw_data[k].append(v)\n",
    "\n",
    "asmc_data = {}\n",
    "asmc_data['tstbd'] = raw_data['tstbd']\n",
    "asmc_data['tport'] = raw_data['tport']\n",
    "df_asmc = pd.DataFrame.from_dict(asmc_data)\n",
    "df_asmc['time'] = df_asmc.index * 0.01\n",
    "\n",
    "df = pd.DataFrame.from_dict(data)\n",
    "df = pd.concat([df, pd.DataFrame(df['position'].to_list(), columns=['x','y','rot'])], axis=1)\n",
    "df = pd.concat([df, pd.DataFrame(df['velocity'].to_list(), columns=['u','v','r'])], axis=1)\n",
    "df = pd.concat([df, pd.DataFrame(df['action'].to_list(), columns=['action0', 'action1'])], axis=1)\n",
    "df = pd.concat([df, pd.DataFrame(df['action_in'].to_list(), columns=['action_in0', 'action_in1'])], axis=1)\n",
    "\n",
    "df['time'] = df.index * 0.1\n",
    "\n",
    "df.describe()\n",
    "\n",
    "obstacles = raw_data['obstacles'][0][0]\n",
    "obstacle_radius = raw_data['obstacle_radius'][0][0]\n",
    "target = raw_data['target'][0][0][:-1]\n",
    "start_x, start_y, start_r = df['position'][0]\n",
    "\n",
    "df.describe()"
   ]
  },
  {
   "cell_type": "code",
   "execution_count": null,
   "metadata": {},
   "outputs": [],
   "source": [
    "fig, ax = plt.subplots(1,1, figsize=(10,6))\n",
    "ax.plot(df.time, df['action_in0'], ls=\"-\")\n",
    "ax.plot(df.time, df['action_in1'], ls=\"-\")\n",
    "ax.legend(loc=\"upper right\", labels=['action0 in', 'action1 in'])\n",
    "#ax.set_title(\"Action\")\n",
    "ax.set_xlabel(\"Time(s)\")\n",
    "#plt.savefig('figures/action_plot.pgf')\n",
    "ax.set_xlim(0, 20)\n",
    "\n",
    "fig.show()"
   ]
  },
  {
   "cell_type": "code",
   "execution_count": null,
   "metadata": {},
   "outputs": [],
   "source": [
    "fig, ax = plt.subplots(1,1, figsize=(10,6))\n",
    "ax.plot(df_asmc.time, df_asmc['tport'], ls=\"-\")\n",
    "ax.plot(df_asmc.time, df_asmc['tstbd'], ls=\"-\")\n",
    "ax.legend(loc=\"upper right\", labels=['tport', 'tstbd'])\n",
    "ax.set_title(\"Thruster output\")\n",
    "ax.set_xlabel(\"Time (s)\")\n",
    "ax.set_xlim(0, 20)\n",
    "ax.set_ylabel(\"N\")"
   ]
  },
  {
   "cell_type": "code",
   "execution_count": null,
   "metadata": {},
   "outputs": [],
   "source": [
    "fig, ax = plt.subplots(1,1, figsize=(10,6))\n",
    "ax.plot(df.time, df['u'], ls=\"-\")\n",
    "ax.plot(df.time, df['r'], ls=\"-\")\n",
    "ax.legend(loc=\"upper right\", labels=['u', 'r'])\n",
    "#ax.set_title(\"Action\")\n",
    "ax.set_xlabel(\"Time(s)\")\n",
    "#plt.savefig('figures/action_plot.pgf')\n",
    "fig.show()"
   ]
  },
  {
   "cell_type": "code",
   "execution_count": null,
   "metadata": {},
   "outputs": [],
   "source": [
    "fig, ax = plt.subplots(1,1, figsize=(10,6))\n",
    "# map axis are swapped\n",
    "ax.plot(df['y'], df['x'], 'b:', label=\"Path\")\n",
    "obstacles_rotated = obstacles.copy()\n",
    "obstacles_rotated[:, 0], obstacles_rotated[:, 1] = obstacles_rotated[:, 1], obstacles_rotated[:, 0].copy()\n",
    "ax.add_collection(EllipseCollection(widths=obstacle_radius*2-0.3, heights=obstacle_radius*2-0.3, angles=0, units='xy',\n",
    "                                       offsets=obstacles_rotated, transOffset=ax.transData))\n",
    "goal_radius = 1.5\n",
    "from matplotlib.patches import Ellipse\n",
    "goal_r = 3\n",
    "goal_ell = Ellipse(xy=[target[1], target[0]],\n",
    "                   width=goal_r, height=goal_r, \n",
    "                   edgecolor='g', lw=2, linestyle=':', \n",
    "                   facecolor='none')\n",
    "ax.add_artist(goal_ell)\n",
    "ax.plot(target[1], target[0], 'g*', label=\"Goal\", markersize=10)\n",
    "\n",
    "t = mpl.markers.MarkerStyle(marker='^')\n",
    "t._transform = t.get_transform().rotate(-start_r)\n",
    "\n",
    "# Add markers on perturbation\n",
    "add_perturb = True\n",
    "if add_perturb:\n",
    "    # sample a point every x steps\n",
    "    samples = np.arange(perturb_range[0], perturb_range[1], 10)\n",
    "    sx = df['x'][samples]\n",
    "    sy = df['y'][samples]\n",
    "    ax.plot(sy, sx, 'm^', label=\"Perturbation\")\n",
    "    \n",
    "\n",
    "ax.plot(start_y, start_x, 'r', label=\"Start\", marker=t, markersize=10, linestyle='None')\n",
    "ax.set_aspect(1)\n",
    "ax.set_xlabel(\"X(m)\")\n",
    "ax.set_ylabel(\"Y(m)\")\n",
    "\n",
    "\n",
    "# Find new min and max limits\n",
    "plt_min = min(start_x, target[0]), min(start_y, target[1])\n",
    "plt_max = max(start_x, target[0]), max(start_y, target[1])\n",
    "\n",
    "y_margin = 8\n",
    "x_margin = 8\n",
    "ax.set_aspect('equal')\n",
    "#ax.set_ylim(plt_min[0] - y_margin, plt_max[0] + y_margin)\n",
    "#ax.set_xlim(plt_min[1] - x_margin, plt_max[1] + x_margin)\n",
    "ax.legend()\n",
    "fig.show()\n",
    "\n",
    "#plt.savefig('figures/experiment1_path.pgf')\n"
   ]
  },
  {
   "cell_type": "code",
   "execution_count": null,
   "metadata": {},
   "outputs": [],
   "source": [
    "exp2_data = {'obs_x': envs.envs[0].obs_x, 'obs_y': envs.envs[0].obs_y, 'obs_r': envs.envs[0].obs_r}\n",
    "#pickle.dump(exp2_data, open('exp2_data.pkl', 'wb'))"
   ]
  }
 ],
 "metadata": {
  "kernelspec": {
   "display_name": "Python 3 (ipykernel)",
   "language": "python",
   "name": "python3"
  },
  "language_info": {
   "codemirror_mode": {
    "name": "ipython",
    "version": 3
   },
   "file_extension": ".py",
   "mimetype": "text/x-python",
   "name": "python",
   "nbconvert_exporter": "python",
   "pygments_lexer": "ipython3",
   "version": "3.10.9"
  }
 },
 "nbformat": 4,
 "nbformat_minor": 4
}
