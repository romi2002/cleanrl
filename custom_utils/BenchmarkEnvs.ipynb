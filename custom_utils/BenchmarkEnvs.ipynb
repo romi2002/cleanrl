{
 "cells": [
  {
   "cell_type": "code",
   "execution_count": 2,
   "id": "20361b1d-0205-46e3-9b53-7d7cf0e694bc",
   "metadata": {},
   "outputs": [],
   "source": [
    "import timeit\n",
    "import gymnasium as gym\n",
    "import gym_usv"
   ]
  },
  {
   "cell_type": "code",
   "execution_count": 3,
   "id": "16d05ea5-e7a2-495b-a614-e70628b450c2",
   "metadata": {},
   "outputs": [],
   "source": [
    "n_envs = 8"
   ]
  },
  {
   "cell_type": "code",
   "execution_count": 5,
   "id": "55e54d0a-7f95-4de1-91ee-547d20fc320c",
   "metadata": {},
   "outputs": [
    {
     "ename": "TypeError",
     "evalue": "SyncVectorEnv.__init__() missing 1 required positional argument: 'env_fns'",
     "output_type": "error",
     "traceback": [
      "\u001B[0;31m---------------------------------------------------------------------------\u001B[0m",
      "\u001B[0;31mTypeError\u001B[0m                                 Traceback (most recent call last)",
      "Cell \u001B[0;32mIn[5], line 1\u001B[0m\n\u001B[0;32m----> 1\u001B[0m \u001B[43mgym\u001B[49m\u001B[38;5;241;43m.\u001B[39;49m\u001B[43mvector\u001B[49m\u001B[38;5;241;43m.\u001B[39;49m\u001B[43mSyncVectorEnv\u001B[49m\u001B[43m(\u001B[49m\u001B[43m)\u001B[49m\n",
      "\u001B[0;31mTypeError\u001B[0m: SyncVectorEnv.__init__() missing 1 required positional argument: 'env_fns'"
     ]
    }
   ],
   "source": [
    "gym.vector.SyncVectorEnv(\n",
    "    [lambda: gym.make(\"usv-asmc-\n",
    ")"
   ]
  }
 ],
 "metadata": {
  "kernelspec": {
   "display_name": "Python 3 (ipykernel)",
   "language": "python",
   "name": "python3"
  },
  "language_info": {
   "codemirror_mode": {
    "name": "ipython",
    "version": 3
   },
   "file_extension": ".py",
   "mimetype": "text/x-python",
   "name": "python",
   "nbconvert_exporter": "python",
   "pygments_lexer": "ipython3",
   "version": "3.10.9"
  }
 },
 "nbformat": 4,
 "nbformat_minor": 5
}
